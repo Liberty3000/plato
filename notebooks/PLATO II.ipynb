{
 "cells": [
  {
   "cell_type": "code",
   "execution_count": 1,
   "metadata": {},
   "outputs": [],
   "source": [
    "from plato.environment import Environment"
   ]
  },
  {
   "cell_type": "code",
   "execution_count": 2,
   "metadata": {},
   "outputs": [],
   "source": [
    "config = {\n",
    "  \"whites\":{\n",
    "    \"params\":{\n",
    "    \"n_white_infantry\":16,\n",
    "    \"n_white_vehicle\":4,\n",
    "    \"n_white_drone\":2},\n",
    "    \"init\":\"E\"\n",
    "  },\n",
    "\n",
    "  \"blacks\":{\n",
    "    \"params\":{\n",
    "    \"n_black_infantry\":24,\n",
    "    \"n_black_vehicle\":8,\n",
    "    \"n_black_drone\":3},\n",
    "    \"init\":\"W\"\n",
    "  }\n",
    "}"
   ]
  },
  {
   "cell_type": "code",
   "execution_count": 3,
   "metadata": {},
   "outputs": [],
   "source": [
    "sim = Environment(config, shape=(512,512))"
   ]
  },
  {
   "cell_type": "code",
   "execution_count": 4,
   "metadata": {},
   "outputs": [],
   "source": [
    "obs = sim.reset()"
   ]
  },
  {
   "cell_type": "code",
   "execution_count": 5,
   "metadata": {},
   "outputs": [
    {
     "name": "stdout",
     "output_type": "stream",
     "text": [
      "LIMA          <plato.entity.infantry.Infantry object at 0x1183e3890>\n",
      "BOUGANSVILLE  <plato.entity.infantry.Infantry object at 0x1183e3b50>\n",
      "LITTLEROCK    <plato.entity.infantry.Infantry object at 0x1183ea5d0>\n",
      "SIOUXCITY     <plato.entity.infantry.Infantry object at 0x1183ec0d0>\n",
      "BUFFALO       <plato.entity.infantry.Infantry object at 0x1183ecb90>\n",
      "HURRICANE     <plato.entity.infantry.Infantry object at 0x1183ed690>\n",
      "CHICAGO       <plato.entity.infantry.Infantry object at 0x1183f2190>\n",
      "MARYLAND      <plato.entity.infantry.Infantry object at 0x1183f2c50>\n",
      "CHARLIE       <plato.entity.infantry.Infantry object at 0x1183f4750>\n",
      "TYPHOON       <plato.entity.infantry.Infantry object at 0x1183f3250>\n",
      "WYOMING       <plato.entity.infantry.Infantry object at 0x1183f3d10>\n",
      "ECHO          <plato.entity.infantry.Infantry object at 0x1183f8810>\n",
      "NOVEMBER      <plato.entity.infantry.Infantry object at 0x1183f9310>\n",
      "WHISKEY       <plato.entity.infantry.Infantry object at 0x1183f9dd0>\n",
      "BRAVO         <plato.entity.infantry.Infantry object at 0x1183fb910>\n",
      "YANKEE        <plato.entity.infantry.Infantry object at 0x11835cb10>\n",
      "SIERRA        <plato.entity.vehicle.Vehicle object at 0x117bfb490>\n",
      "HIGGINS       <plato.entity.vehicle.Vehicle object at 0x118402850>\n",
      "THESULLIVANS  <plato.entity.vehicle.Vehicle object at 0x118402890>\n",
      "MAHAN         <plato.entity.vehicle.Vehicle object at 0x118402810>\n",
      "GIFFORDS      <plato.entity.drone.Drone object at 0x1183fdbd0>\n",
      "AMERICA       <plato.entity.drone.Drone object at 0x1183e38d0>\n"
     ]
    }
   ],
   "source": [
    "for id_,w in sim.whites.items(): print('{:13}'.format(id_), w)"
   ]
  },
  {
   "cell_type": "code",
   "execution_count": 6,
   "metadata": {},
   "outputs": [
    {
     "name": "stdout",
     "output_type": "stream",
     "text": [
      "unknown_0     <plato.entity.infantry.Infantry object at 0x11840ae10>\n",
      "unknown_1     <plato.entity.infantry.Infantry object at 0x11840ae50>\n",
      "unknown_2     <plato.entity.infantry.Infantry object at 0x11840b950>\n",
      "unknown_3     <plato.entity.infantry.Infantry object at 0x11840e450>\n",
      "unknown_4     <plato.entity.infantry.Infantry object at 0x11840ef10>\n",
      "unknown_5     <plato.entity.infantry.Infantry object at 0x11840fa10>\n",
      "unknown_6     <plato.entity.infantry.Infantry object at 0x118410510>\n",
      "unknown_7     <plato.entity.infantry.Infantry object at 0x118410fd0>\n",
      "unknown_8     <plato.entity.infantry.Infantry object at 0x118412ad0>\n",
      "unknown_9     <plato.entity.infantry.Infantry object at 0x1184155d0>\n",
      "unknown_10    <plato.entity.infantry.Infantry object at 0x1184160d0>\n",
      "unknown_11    <plato.entity.infantry.Infantry object at 0x118416b90>\n",
      "unknown_12    <plato.entity.infantry.Infantry object at 0x118418690>\n",
      "unknown_13    <plato.entity.infantry.Infantry object at 0x11841b190>\n",
      "unknown_14    <plato.entity.infantry.Infantry object at 0x11841bc50>\n",
      "unknown_15    <plato.entity.infantry.Infantry object at 0x11841e750>\n",
      "unknown_16    <plato.entity.infantry.Infantry object at 0x11841f250>\n",
      "unknown_17    <plato.entity.infantry.Infantry object at 0x11841fd10>\n",
      "unknown_18    <plato.entity.infantry.Infantry object at 0x118421810>\n",
      "unknown_19    <plato.entity.infantry.Infantry object at 0x118422310>\n",
      "unknown_20    <plato.entity.infantry.Infantry object at 0x118422dd0>\n",
      "unknown_21    <plato.entity.infantry.Infantry object at 0x1184248d0>\n",
      "unknown_22    <plato.entity.infantry.Infantry object at 0x1184273d0>\n",
      "unknown_23    <plato.entity.infantry.Infantry object at 0x118427e90>\n",
      "unknown_24    <plato.entity.vehicle.Vehicle object at 0x11842a990>\n",
      "unknown_25    <plato.entity.vehicle.Vehicle object at 0x11842b490>\n",
      "unknown_26    <plato.entity.vehicle.Vehicle object at 0x10ca942d0>\n",
      "unknown_27    <plato.entity.vehicle.Vehicle object at 0x118433c90>\n",
      "unknown_28    <plato.entity.vehicle.Vehicle object at 0x1184348d0>\n",
      "unknown_29    <plato.entity.vehicle.Vehicle object at 0x11843a190>\n",
      "unknown_30    <plato.entity.vehicle.Vehicle object at 0x11843a1d0>\n",
      "unknown_31    <plato.entity.vehicle.Vehicle object at 0x11843a150>\n",
      "unknown_32    <plato.entity.drone.Drone object at 0x118438510>\n",
      "unknown_33    <plato.entity.drone.Drone object at 0x1184415d0>\n",
      "unknown_34    <plato.entity.drone.Drone object at 0x118442a90>\n"
     ]
    }
   ],
   "source": [
    "for id_,w in sim.blacks.items(): print('{:13}'.format(id_), w)"
   ]
  },
  {
   "cell_type": "code",
   "execution_count": 7,
   "metadata": {},
   "outputs": [
    {
     "data": {
      "image/png": "[encoded data removed]",
      "text/plain": [
       "<Figure size 720x720 with 1 Axes>"
      ]
     },
     "metadata": {
      "needs_background": "light"
     },
     "output_type": "display_data"
    }
   ],
   "source": [
    "canvas = sim.render()"
   ]
  }
 ],
 "metadata": {
  "kernelspec": {
   "display_name": "Python 3",
   "language": "python",
   "name": "python3"
  },
  "language_info": {
   "codemirror_mode": {
    "name": "ipython",
    "version": 3
   },
   "file_extension": ".py",
   "mimetype": "text/x-python",
   "name": "python",
   "nbconvert_exporter": "python",
   "pygments_lexer": "ipython3",
   "version": "3.7.4"
  }
 },
 "nbformat": 4,
 "nbformat_minor": 2
}
